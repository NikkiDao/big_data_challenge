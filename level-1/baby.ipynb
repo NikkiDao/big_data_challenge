{
 "cells": [
  {
   "cell_type": "code",
   "execution_count": 2,
   "metadata": {
    "colab": {
     "base_uri": "https://localhost:8080/"
    },
    "id": "bzH75O-WtFv6",
    "outputId": "549616c7-90e6-4367-f438-3f2dd19a2eba"
   },
   "outputs": [
    {
     "name": "stdout",
     "output_type": "stream",
     "text": [
      "\r",
      "0% [Working]\r",
      "            \r",
      "Hit:1 https://cloud.r-project.org/bin/linux/ubuntu bionic-cran40/ InRelease\n",
      "\r",
      "0% [Connecting to archive.ubuntu.com] [Connecting to security.ubuntu.com (185.1\r",
      "0% [1 InRelease gpgv 3,626 B] [Connecting to archive.ubuntu.com] [Connecting to\r",
      "                                                                               \r",
      "Ign:2 https://developer.download.nvidia.com/compute/machine-learning/repos/ubuntu1804/x86_64  InRelease\n",
      "\r",
      "0% [1 InRelease gpgv 3,626 B] [Connecting to archive.ubuntu.com] [Connecting to\r",
      "                                                                               \r",
      "Hit:3 https://developer.download.nvidia.com/compute/cuda/repos/ubuntu1804/x86_64  InRelease\n",
      "Hit:4 https://developer.download.nvidia.com/compute/machine-learning/repos/ubuntu1804/x86_64  Release\n",
      "Hit:5 http://archive.ubuntu.com/ubuntu bionic InRelease\n",
      "Hit:6 http://ppa.launchpad.net/c2d4u.team/c2d4u4.0+/ubuntu bionic InRelease\n",
      "Hit:7 http://security.ubuntu.com/ubuntu bionic-security InRelease\n",
      "Hit:8 http://archive.ubuntu.com/ubuntu bionic-updates InRelease\n",
      "Hit:10 http://archive.ubuntu.com/ubuntu bionic-backports InRelease\n",
      "Hit:11 http://ppa.launchpad.net/cran/libgit2/ubuntu bionic InRelease\n",
      "Hit:12 http://ppa.launchpad.net/deadsnakes/ppa/ubuntu bionic InRelease\n",
      "Hit:13 http://ppa.launchpad.net/graphics-drivers/ppa/ubuntu bionic InRelease\n",
      "Reading package lists... Done\n"
     ]
    }
   ],
   "source": [
    "import os\n",
    "spark_version = 'spark-3.1.3'\n",
    "\n",
    "os.environ['SPARK_VERSION']=spark_version\n",
    "\n",
    "# Install Spark and Java\n",
    "!apt-get update\n",
    "!apt-get install openjdk-8-jdk-headless -qq > /dev/null\n",
    "!wget -q http://www.apache.org/dist/spark/$SPARK_VERSION/$SPARK_VERSION-bin-hadoop2.7.tgz\n",
    "!tar xf $SPARK_VERSION-bin-hadoop2.7.tgz\n",
    "!pip install -q findspark\n",
    "\n",
    "# Set Environment Variables\n",
    "os.environ[\"JAVA_HOME\"] = \"/usr/lib/jvm/java-8-openjdk-amd64\"\n",
    "os.environ[\"SPARK_HOME\"] = f\"/content/{spark_version}-bin-hadoop2.7\"\n",
    "\n",
    "# Start a SparkSession\n",
    "import findspark\n",
    "findspark.init()"
   ]
  },
  {
   "cell_type": "code",
   "execution_count": 3,
   "metadata": {
    "colab": {
     "base_uri": "https://localhost:8080/"
    },
    "id": "jy9WtcwGtRfo",
    "outputId": "e2128a1d-19c0-4567-a117-25d47708e120"
   },
   "outputs": [
    {
     "name": "stdout",
     "output_type": "stream",
     "text": [
      "--2022-09-07 20:51:22--  https://jdbc.postgresql.org/download/postgresql-42.2.9.jar\n",
      "Resolving jdbc.postgresql.org (jdbc.postgresql.org)... 72.32.157.228, 2001:4800:3e1:1::228\n",
      "Connecting to jdbc.postgresql.org (jdbc.postgresql.org)|72.32.157.228|:443... connected.\n",
      "HTTP request sent, awaiting response... 200 OK\n",
      "Length: 914037 (893K) [application/java-archive]\n",
      "Saving to: ‘postgresql-42.2.9.jar’\n",
      "\n",
      "postgresql-42.2.9.j 100%[===================>] 892.61K  4.54MB/s    in 0.2s    \n",
      "\n",
      "2022-09-07 20:51:22 (4.54 MB/s) - ‘postgresql-42.2.9.jar’ saved [914037/914037]\n",
      "\n"
     ]
    }
   ],
   "source": [
    "# Connect to Postgres\n",
    "!wget https://jdbc.postgresql.org/download/postgresql-42.2.9.jar"
   ]
  },
  {
   "cell_type": "code",
   "execution_count": 14,
   "metadata": {
    "id": "5aaOqWxeuMTX"
   },
   "outputs": [],
   "source": [
    "# Create connection\n",
    "from pyspark.sql import SparkSession\n",
    "spark = SparkSession.builder.appName(\"Baby\").config(\"spark.driver.extraClassPath\",\"/content/postgresql-42.2.9.jar\").getOrCreate()"
   ]
  },
  {
   "cell_type": "code",
   "execution_count": 15,
   "metadata": {
    "colab": {
     "base_uri": "https://localhost:8080/"
    },
    "id": "DrNnib5VuUvO",
    "outputId": "9da5e162-2fce-42d8-99ae-7ee7cf77c882"
   },
   "outputs": [
    {
     "name": "stdout",
     "output_type": "stream",
     "text": [
      "+-----------+-----------+--------------+----------+--------------+--------------------+----------------+-----------+-------------+-----------+----+-----------------+--------------------+--------------------+-----------+\n",
      "|marketplace|customer_id|     review_id|product_id|product_parent|       product_title|product_category|star_rating|helpful_votes|total_votes|vine|verified_purchase|     review_headline|         review_body|review_date|\n",
      "+-----------+-----------+--------------+----------+--------------+--------------------+----------------+-----------+-------------+-----------+----+-----------------+--------------------+--------------------+-----------+\n",
      "|         US|    9970739| R8EWA1OFT84NX|B00GSP5D94|     329991347|Summer Infant Swa...|            Baby|          5|            0|          0|   N|                Y|Great swaddled bl...|Loved these swadd...| 2015-08-31|\n",
      "|         US|   23538442|R2JWY4YRQD4FOP|B00YYDDZGU|     646108902|Pacifier Clip Gir...|            Baby|          5|            0|          0|   N|                N|Too cute and real...|These are adorabl...| 2015-08-31|\n",
      "|         US|    8273344| RL5ESX231LZ0B|B00BUBNZC8|     642922361|Udder Covers - Br...|            Baby|          5|            0|          0|   N|                Y|          Five Stars|          Great gift| 2015-08-31|\n",
      "|         US|   24557753| RRMS9ZWJ2KD08|B00AWLZFTS|     494272733|Gerber Graduates ...|            Baby|          5|            0|          0|   N|                Y|Cute; wash up nic...|These forks are g...| 2015-08-31|\n",
      "|         US|   46263340|R14I3ZG5E6S7YM|B00KM60D3Q|     305813185|Summer Infant Ult...|            Baby|          5|            0|          0|   N|                Y|            Love it!|I wanted somethin...| 2015-08-31|\n",
      "|         US|   24557753|R13EPSFP5DODN5|B00PQMRZG4|     607341708|Summer Infant Kee...|            Baby|          4|            0|          0|   N|                Y|        Rips easily.|Loved with daught...| 2015-08-31|\n",
      "|         US|   33520065| R6RBP4HTE67SY|B005DL5970|     971881542|Natural HE Powder...|            Baby|          5|            0|          0|   N|                Y|Cloth Diaper Dete...|This is a great d...| 2015-08-31|\n",
      "|         US|   20241560|R15B3EU40RSU2W|B00C6D2WL4|      93827401|Dr. Brown's Bottl...|            Baby|          5|            0|          0|   N|                Y|          Five Stars|                good| 2015-08-31|\n",
      "|         US|    9987983| RP4DD53A4ZJA2|B0083973FK|     958629336|Sposie Booster Pa...|            Baby|          5|            0|          0|   N|                Y|          Five Stars|With these my mil...| 2015-08-31|\n",
      "|         US|   52570308|R2C99DJEO4RZ4K|B00RLYG2S2|     147324304|Abiie Beyond Wood...|            Baby|          5|            3|          4|   N|                Y|So far I love thi...|So far I love thi...| 2015-08-31|\n",
      "+-----------+-----------+--------------+----------+--------------+--------------------+----------------+-----------+-------------+-----------+----+-----------------+--------------------+--------------------+-----------+\n",
      "only showing top 10 rows\n",
      "\n"
     ]
    }
   ],
   "source": [
    "# Load in data\n",
    "from pyspark import SparkFiles\n",
    "url = 'https://s3.amazonaws.com/amazon-reviews-pds/tsv/amazon_reviews_us_Baby_v1_00.tsv.gz'\n",
    "spark.sparkContext.addFile(src)\n",
    "baby = spark.read.csv(SparkFiles.get('amazon_reviews_us_Baby_v1_00.tsv.gz'), sep='\\t', timestampFormat='yyyy/MM/dd', inferSchema=True, header=True)\n",
    "baby.show(10)"
   ]
  },
  {
   "cell_type": "code",
   "execution_count": 24,
   "metadata": {
    "colab": {
     "base_uri": "https://localhost:8080/"
    },
    "id": "xEL-RoAqvSn_",
    "outputId": "da9ee87c-ef5d-4771-fc9f-1a7a04006e34"
   },
   "outputs": [
    {
     "name": "stdout",
     "output_type": "stream",
     "text": [
      "Total rows: 1752932\n"
     ]
    }
   ],
   "source": [
    "# Number of rows\n",
    "rows = baby.count()\n",
    "print(f'Total rows: {rows}')\n"
   ]
  },
  {
   "cell_type": "code",
   "execution_count": 49,
   "metadata": {
    "colab": {
     "base_uri": "https://localhost:8080/"
    },
    "id": "Gtymd1OXxiM-",
    "outputId": "55f460e6-d02e-4076-cec3-7431d8e7ca6d"
   },
   "outputs": [
    {
     "name": "stdout",
     "output_type": "stream",
     "text": [
      "+--------------+-----------+----------+--------------+-----------+\n",
      "|     review_id|customer_id|product_id|product_parent|review_date|\n",
      "+--------------+-----------+----------+--------------+-----------+\n",
      "| R8EWA1OFT84NX|    9970739|B00GSP5D94|     329991347| 2015-08-31|\n",
      "|R2JWY4YRQD4FOP|   23538442|B00YYDDZGU|     646108902| 2015-08-31|\n",
      "| RL5ESX231LZ0B|    8273344|B00BUBNZC8|     642922361| 2015-08-31|\n",
      "| RRMS9ZWJ2KD08|   24557753|B00AWLZFTS|     494272733| 2015-08-31|\n",
      "|R14I3ZG5E6S7YM|   46263340|B00KM60D3Q|     305813185| 2015-08-31|\n",
      "|R13EPSFP5DODN5|   24557753|B00PQMRZG4|     607341708| 2015-08-31|\n",
      "| R6RBP4HTE67SY|   33520065|B005DL5970|     971881542| 2015-08-31|\n",
      "|R15B3EU40RSU2W|   20241560|B00C6D2WL4|      93827401| 2015-08-31|\n",
      "| RP4DD53A4ZJA2|    9987983|B0083973FK|     958629336| 2015-08-31|\n",
      "|R2C99DJEO4RZ4K|   52570308|B00RLYG2S2|     147324304| 2015-08-31|\n",
      "+--------------+-----------+----------+--------------+-----------+\n",
      "only showing top 10 rows\n",
      "\n",
      "root\n",
      " |-- review_id: string (nullable = true)\n",
      " |-- customer_id: integer (nullable = true)\n",
      " |-- product_id: string (nullable = true)\n",
      " |-- product_parent: integer (nullable = true)\n",
      " |-- review_date: string (nullable = true)\n",
      "\n"
     ]
    }
   ],
   "source": [
    "#Transforming DataFrame to fit table schema \n",
    "review_id_table = baby.select([\"review_id\", \"customer_id\", \"product_id\", \"product_parent\", \"review_date\"])\n",
    "review_id_table.show(10)\n",
    "review_id_table.printSchema()"
   ]
  },
  {
   "cell_type": "code",
   "execution_count": 50,
   "metadata": {
    "colab": {
     "base_uri": "https://localhost:8080/"
    },
    "id": "YHufsxAByTEW",
    "outputId": "7ab1e2c7-3c79-46cc-d3ed-681b444ab843"
   },
   "outputs": [
    {
     "name": "stdout",
     "output_type": "stream",
     "text": [
      "+----------+--------------------+\n",
      "|product_id|       product_title|\n",
      "+----------+--------------------+\n",
      "|B00GSP5D94|Summer Infant Swa...|\n",
      "|B00YYDDZGU|Pacifier Clip Gir...|\n",
      "|B00BUBNZC8|Udder Covers - Br...|\n",
      "|B00AWLZFTS|Gerber Graduates ...|\n",
      "|B00KM60D3Q|Summer Infant Ult...|\n",
      "|B00PQMRZG4|Summer Infant Kee...|\n",
      "|B005DL5970|Natural HE Powder...|\n",
      "|B00C6D2WL4|Dr. Brown's Bottl...|\n",
      "|B0083973FK|Sposie Booster Pa...|\n",
      "|B00RLYG2S2|Abiie Beyond Wood...|\n",
      "+----------+--------------------+\n",
      "only showing top 10 rows\n",
      "\n",
      "root\n",
      " |-- product_id: string (nullable = true)\n",
      " |-- product_title: string (nullable = true)\n",
      "\n"
     ]
    }
   ],
   "source": [
    "#Transforming DataFrame to fit products schema \n",
    "products = baby[['product_id', 'product_title']]\n",
    "products.dropDuplicates(['product_id'])\n",
    "products.dropna()\n",
    "products.show(10)\n",
    "products.printSchema()"
   ]
  },
  {
   "cell_type": "code",
   "execution_count": 51,
   "metadata": {
    "colab": {
     "base_uri": "https://localhost:8080/"
    },
    "id": "f-s8_kZEymG2",
    "outputId": "2e89bf9e-3432-4979-c770-c58a3ac99efd"
   },
   "outputs": [
    {
     "name": "stdout",
     "output_type": "stream",
     "text": [
      "+-----------+-----+\n",
      "|customer_id|count|\n",
      "+-----------+-----+\n",
      "|   23042837|    2|\n",
      "|   44524872|    1|\n",
      "|   16711087|    1|\n",
      "|   14116630|    3|\n",
      "|   10548283|    1|\n",
      "|   12879980|   15|\n",
      "|   11913481|    1|\n",
      "|   49875798|    3|\n",
      "|   40993003|    1|\n",
      "|    6272214|    3|\n",
      "+-----------+-----+\n",
      "only showing top 10 rows\n",
      "\n",
      "root\n",
      " |-- customer_id: integer (nullable = true)\n",
      " |-- count: long (nullable = false)\n",
      "\n"
     ]
    }
   ],
   "source": [
    "#Transforming DataFrame to fit customers schema \n",
    "customers = baby.select([\"customer_id\"])\n",
    "customers = customers.groupBy(\"customer_id\").count()\n",
    "customers.orderBy(\"customer_id\").select([\"customer_id\", \"count\"])\n",
    "customers.show(10)\n",
    "customers.printSchema()"
   ]
  },
  {
   "cell_type": "code",
   "execution_count": 46,
   "metadata": {
    "colab": {
     "base_uri": "https://localhost:8080/"
    },
    "id": "zlaYGwmbyp2m",
    "outputId": "93dd61a0-2f58-4fed-8522-e7d800f76819"
   },
   "outputs": [
    {
     "name": "stdout",
     "output_type": "stream",
     "text": [
      "+--------------+-----------+-------------+-----------+----+\n",
      "|     review_id|star_rating|helpful_votes|total_votes|vine|\n",
      "+--------------+-----------+-------------+-----------+----+\n",
      "|R100GNJU76M4Q9|          4|            0|          0|   N|\n",
      "|R100RNZZU8P949|          5|            2|          2|   N|\n",
      "|R102LHBUMFLRSZ|          3|            5|          6|   N|\n",
      "|R102NVF0W1Y2Q1|          5|            5|          8|   N|\n",
      "|R1030RGR05XVMJ|          5|            0|          0|   N|\n",
      "|R1032V7632ZYV8|          5|            0|          0|   N|\n",
      "|R1035LB8SN4J8C|          5|            0|          0|   N|\n",
      "|R10459MPUEC8XH|          5|            0|          0|   N|\n",
      "|R104RESTVELARK|          5|            5|          5|   N|\n",
      "|R105Z2BW17EOMD|          5|            0|          0|   N|\n",
      "+--------------+-----------+-------------+-----------+----+\n",
      "only showing top 10 rows\n",
      "\n",
      "root\n",
      " |-- review_id: string (nullable = true)\n",
      " |-- star_rating: integer (nullable = true)\n",
      " |-- helpful_votes: integer (nullable = true)\n",
      " |-- total_votes: integer (nullable = true)\n",
      " |-- vine: string (nullable = true)\n",
      "\n"
     ]
    }
   ],
   "source": [
    "#Transforming DataFrame to fit vine schema \n",
    "from pyspark.sql.types import * \n",
    "vine = baby.select([\"review_id\",\"star_rating\", \"helpful_votes\", \"total_votes\", \"vine\"])\n",
    "vine = vine.dropDuplicates([\"review_id\"])\n",
    "\n",
    "vine = vine.withColumn(\"star_rating\",vine[\"star_rating\"].cast(IntegerType()))\\\n",
    "    .withColumn(\"helpful_votes\",vine[\"helpful_votes\"].cast(IntegerType()))\\\n",
    "    .withColumn(\"total_votes\",vine[\"total_votes\"].cast(IntegerType()))\n",
    "\n",
    "vine.show(10)\n",
    "vine.printSchema()"
   ]
  },
  {
   "cell_type": "code",
   "execution_count": 55,
   "metadata": {
    "id": "9bD9-7_83UbG"
   },
   "outputs": [],
   "source": [
    "#Push to AWS\n",
    "mode = \"append\"\n",
    "mode = 'append'\n",
    "jdbc_url= 'jdbc:postgresql://<endpoint>:5432/<database>'\n",
    "config = {'user':'<username>', \n",
    "          'password': '<password>', \n",
    "          'driver':'org.postgresql.Driver'}"
   ]
  },
  {
   "cell_type": "code",
   "execution_count": 58,
   "metadata": {
    "id": "jyaTmJ9c4HFe"
   },
   "outputs": [],
   "source": [
    "#review_id_table.write.jdbc(url=jdbc_url, table=\"review_id_table\", mode=mode, properties=config)\n",
    "#products.write.jdbc(url=jdbc_url, table=\"products\", mode=mode, properties=config)\n",
    "#customers.write.jdbc(url=jdbc_url, table=\"customers\", mode=mode, properties=config)\n",
    "#vine.write.jdbc(url=jdbc_url, table=\"vine_table\", mode=mode, properties=config)"
   ]
  },
  {
   "cell_type": "code",
   "execution_count": null,
   "metadata": {
    "id": "mPhoYKvY4XIW"
   },
   "outputs": [],
   "source": []
  }
 ],
 "metadata": {
  "colab": {
   "collapsed_sections": [],
   "provenance": []
  },
  "hide_input": false,
  "kernelspec": {
   "display_name": "Python 3 (ipykernel)",
   "language": "python",
   "name": "python3"
  },
  "language_info": {
   "codemirror_mode": {
    "name": "ipython",
    "version": 3
   },
   "file_extension": ".py",
   "mimetype": "text/x-python",
   "name": "python",
   "nbconvert_exporter": "python",
   "pygments_lexer": "ipython3",
   "version": "3.9.7"
  }
 },
 "nbformat": 4,
 "nbformat_minor": 1
}
